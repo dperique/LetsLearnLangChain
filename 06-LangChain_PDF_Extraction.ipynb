{
 "cells": [
  {
   "cell_type": "code",
   "execution_count": null,
   "metadata": {},
   "outputs": [],
   "source": [
    "pip install -q pypdf chromadb"
   ]
  },
  {
   "cell_type": "markdown",
   "metadata": {},
   "source": [
    "# Ask Questions of A Document\n",
    "\n",
    "# Let's Look at Embeddings and Vector Databases\n",
    "\n",
    "Let's load a PDF from the file system and then ask question about it. In this case we'll use Embeddings from OpenAI and a local VectorDatbase called ChromaDB"
   ]
  },
  {
   "cell_type": "markdown",
   "metadata": {},
   "source": [
    "![Image Description](embedding1.png)\n",
    "![Image Description](embedding2.png)\n",
    "![Image Description](embedding3.png)\n",
    "\n"
   ]
  },
  {
   "cell_type": "markdown",
   "metadata": {},
   "source": []
  },
  {
   "cell_type": "code",
   "execution_count": null,
   "metadata": {},
   "outputs": [],
   "source": [
    "from langchain.chains import RetrievalQA\n",
    "from langchain.document_loaders import PyPDFLoader\n",
    "from langchain.text_splitter import CharacterTextSplitter\n",
    "from langchain.embeddings import OpenAIEmbeddings\n",
    "from langchain.vectorstores import Chroma\n",
    "from langchain.embeddings import OpenAIEmbeddings\n",
    "from langchain.chat_models import ChatOpenAI\n",
    "\n",
    "# load the PDF document\n",
    "loader = PyPDFLoader(\"constitution.pdf\")\n",
    "documents = loader.load()\n",
    "\n",
    "# split the documents into chunks\n",
    "# The chunk size and chunk overlap parameters can be used to control the granularity of the text splitting.\n",
    "text_splitter = CharacterTextSplitter(chunk_size=1000, chunk_overlap=0) # specify how many characters per chunk and overlap\n",
    "texts = text_splitter.split_documents(documents)\n",
    "\n",
    "# select which embeddings we want to use\n",
    "embeddings = OpenAIEmbeddings()\n",
    "\n",
    "# Create embeddings for each chunk and insert into the Chroma vector database.\n",
    "db = Chroma.from_documents(texts, embeddings)\n",
    "\n",
    "# Create a language model and a retriever\n",
    "llm = ChatOpenAI(model='gpt-3.5-turbo', temperature=0)\n",
    "retriever = db.as_retriever()\n",
    "\n",
    "# Create a QA chain\n",
    "chain = RetrievalQA.from_chain_type(llm, retriever=retriever, chain_type='stuff')"
   ]
  },
  {
   "cell_type": "markdown",
   "metadata": {},
   "source": [
    "The chain is now all set. Let's ask some questions!"
   ]
  },
  {
   "cell_type": "code",
   "execution_count": null,
   "metadata": {},
   "outputs": [],
   "source": [
    "#query = \"What is the age required to be president?\"\n",
    "#query = \"What is the title of this document?\"\n",
    "#query = \"Who signed this document?\"\n",
    "query = \"What is the first amendment?\"\n",
    "chain.run(query)"
   ]
  },
  {
   "cell_type": "markdown",
   "metadata": {},
   "source": []
  }
 ],
 "metadata": {
  "kernelspec": {
   "display_name": ".venv",
   "language": "python",
   "name": "python3"
  },
  "language_info": {
   "codemirror_mode": {
    "name": "ipython",
    "version": 3
   },
   "file_extension": ".py",
   "mimetype": "text/x-python",
   "name": "python",
   "nbconvert_exporter": "python",
   "pygments_lexer": "ipython3",
   "version": "3.11.4"
  }
 },
 "nbformat": 4,
 "nbformat_minor": 2
}
